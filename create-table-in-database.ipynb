{
 "cells": [
  {
   "cell_type": "code",
   "execution_count": 21,
   "id": "1c770e1e-4d71-4ef3-bb85-494abf07e1da",
   "metadata": {},
   "outputs": [],
   "source": [
    "# %%capture --no-display\n",
    "# !pip install psycopg2"
   ]
  },
  {
   "cell_type": "code",
   "execution_count": 22,
   "id": "13636714-df8e-40b1-97a7-da8848626275",
   "metadata": {},
   "outputs": [],
   "source": [
    "import json\n",
    "import psycopg2\n",
    "from psycopg2 import sql\n",
    "\n",
    "with open('creds.json', 'r') as file:\n",
    "    config = json.load(file)\n",
    "\n",
    "conn_str = f\"dbname={config['database']} user={config['user']} password={config['password']} host={config['host']} port={config['port']}\"\n",
    "conn = psycopg2.connect(conn_str)\n",
    "cursor = conn.cursor()\n",
    "\n",
    "schema_name = \"javier_santibanez_coderhouse\"\n",
    "table_name = \"exchange_rates_mxn\"\n",
    "\n",
    "create_table_query = sql.SQL(\"\"\"\n",
    "    CREATE TABLE IF NOT EXISTS {}.{} (\n",
    "        id INTEGER IDENTITY(1,1) PRIMARY KEY,\n",
    "        currency VARCHAR(10),\n",
    "        rate_date DATE,\n",
    "        rate DECIMAL(15, 5),\n",
    "        update_date DATE\n",
    "    )\n",
    "\"\"\").format(\n",
    "    sql.Identifier(schema_name),\n",
    "    sql.Identifier(table_name)\n",
    ")\n",
    "\n",
    "cursor.execute(create_table_query)\n",
    "\n",
    "conn.commit()\n",
    "cursor.close()\n",
    "conn.close()"
   ]
  }
 ],
 "metadata": {
  "kernelspec": {
   "display_name": "Python 3 (ipykernel)",
   "language": "python",
   "name": "python3"
  },
  "language_info": {
   "codemirror_mode": {
    "name": "ipython",
    "version": 3
   },
   "file_extension": ".py",
   "mimetype": "text/x-python",
   "name": "python",
   "nbconvert_exporter": "python",
   "pygments_lexer": "ipython3",
   "version": "3.9.18"
  }
 },
 "nbformat": 4,
 "nbformat_minor": 5
}
